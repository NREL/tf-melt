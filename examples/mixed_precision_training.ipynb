{
 "cells": [
  {
   "cell_type": "markdown",
   "metadata": {},
   "source": [
    "# In this notebook, we use mixed precision (mixed_bfloat16) for testing the performance and speed up compared to single precision (float32) for ANN, ResNET, and BNN in TF-MELT."
   ]
  },
  {
   "cell_type": "markdown",
   "metadata": {},
   "source": [
    "## Note that, this code is for training on CPUs only since we are utilizing the Intel AMX technology in the Intel® Xeon® processors. For our tests, we used Intel® Xeon® Platinum 8470QL CPUs with 104 cores on Kestrel (NREL's HPC Cluster)."
   ]
  },
  {
   "cell_type": "markdown",
   "metadata": {},
   "source": [
    "### Pre-requisite installs after tf-melt installation"
   ]
  },
  {
   "cell_type": "code",
   "execution_count": null,
   "metadata": {},
   "outputs": [],
   "source": [
    "!python -m pip install tensorflow-datasets matplotlib scikit-learn ipykernel codecarbon"
   ]
  },
  {
   "cell_type": "markdown",
   "metadata": {},
   "source": [
    "### To check if Intel AMX Technology is available on your CPU, run the following command. If it is available, you should see an output containing these flags: `amx_bf16`, `amx_tile` and `amx_int8`. "
   ]
  },
  {
   "cell_type": "code",
   "execution_count": 15,
   "metadata": {},
   "outputs": [
    {
     "name": "stdout",
     "output_type": "stream",
     "text": [
      "Flags:               fpu vme de pse tsc msr pae mce cx8 apic sep mtrr pge mca cmov pat pse36 clflush dts acpi mmx fxsr sse sse2 ss ht tm pbe syscall nx pdpe1gb rdtscp lm constant_tsc art arch_perfmon pebs bts rep_good nopl xtopology nonstop_tsc cpuid aperfmperf tsc_known_freq pni pclmulqdq dtes64 monitor ds_cpl vmx smx est tm2 ssse3 sdbg fma cx16 xtpr pdcm pcid dca sse4_1 sse4_2 x2apic movbe popcnt tsc_deadline_timer aes xsave avx f16c rdrand lahf_lm abm 3dnowprefetch cpuid_fault epb cat_l3 cat_l2 cdp_l3 invpcid_single cdp_l2 ssbd mba ibrs ibpb stibp ibrs_enhanced tpr_shadow vnmi flexpriority ept vpid ept_ad fsgsbase tsc_adjust bmi1 avx2 smep bmi2 erms invpcid cqm rdt_a avx512f avx512dq rdseed adx smap avx512ifma clflushopt clwb intel_pt avx512cd sha_ni avx512bw avx512vl xsaveopt xsavec xgetbv1 xsaves cqm_llc cqm_occup_llc cqm_mbm_total cqm_mbm_local split_lock_detect avx_vnni avx512_bf16 wbnoinvd dtherm ida arat pln pts hwp hwp_act_window hwp_pkg_req avx512vbmi umip pku ospke waitpkg avx512_vbmi2 gfni vaes vpclmulqdq avx512_vnni avx512_bitalg tme avx512_vpopcntdq la57 rdpid bus_lock_detect cldemote movdiri movdir64b enqcmd fsrm md_clear serialize tsxldtrk pconfig arch_lbr amx_bf16 avx512_fp16 amx_tile amx_int8 flush_l1d arch_capabilities\n"
     ]
    }
   ],
   "source": [
    "!lscpu | grep amx"
   ]
  },
  {
   "cell_type": "markdown",
   "metadata": {},
   "source": [
    "### Next, if the CPU supports Intel AMX, to use the technology we need to set the following environment variable which will set the instruction set architecture (ISA) at the level that supports Intel AMX with both INT8 and bfloat16."
   ]
  },
  {
   "cell_type": "code",
   "execution_count": 16,
   "metadata": {},
   "outputs": [],
   "source": [
    "import os\n",
    "os.environ[\"ONEDNN_MAX_CPU_ISA\"] = \"AVX512_CORE_AMX\""
   ]
  },
  {
   "cell_type": "markdown",
   "metadata": {},
   "source": [
    "### In the training process, we will be enabling mixed precision training with `bfloat16` by using the `tf.config` API and setting option `'auto_mixed_precision_onednn_bfloat16':True`."
   ]
  },
  {
   "cell_type": "markdown",
   "metadata": {},
   "source": [
    "### First, we demonstrate the speedup performance from an example from Intel using the ResNET-50 model for classification on the CIFAR-10 dataset. This example will be a baseline to which we can compare our results with."
   ]
  },
  {
   "cell_type": "code",
   "execution_count": null,
   "metadata": {},
   "outputs": [],
   "source": [
    "import os\n",
    "import time\n",
    "import matplotlib.pyplot as plt\n",
    "import tensorflow as tf\n",
    "import tensorflow_datasets as tfds\n",
    "\n",
    "# Hyperparameters and constants\n",
    "LR = 0.001\n",
    "MOMENTUM = 0.9\n",
    "BATCH_SIZE = 128\n",
    "DATA = 'datasets/cifar10/'\n",
    "\n",
    "# Load dataset\n",
    "def preprocess(data):\n",
    "    image = tf.image.resize(data['image'], (224, 224))\n",
    "    image = tf.cast(image, tf.float32) / 255.0\n",
    "    return image, data['label']\n",
    "    \n",
    "train_dataset, info = tfds.load('cifar10', split='train', with_info=True, as_supervised=False, data_dir=DATA)\n",
    "train_dataset = train_dataset.map(preprocess).batch(BATCH_SIZE).prefetch(tf.data.experimental.AUTOTUNE)\n",
    "\n",
    "def trainModel(train_dataset, modelName=\"myModel\", dataType=\"fp32\"):\n",
    "    # Set mixed precision policy\n",
    "    if dataType == \"bf16\":\n",
    "        tf.config.optimizer.set_experimental_options({'auto_mixed_precision_onednn_bfloat16':True})\n",
    "    else:\n",
    "        tf.keras.mixed_precision.set_global_policy('float32')\n",
    "    \n",
    "    # Initialize the model\n",
    "    model = tf.keras.applications.ResNet50(weights=None, input_shape=(224, 224, 3), classes=10)\n",
    "    model.compile(\n",
    "        optimizer=tf.keras.optimizers.SGD(learning_rate=LR, momentum=MOMENTUM),\n",
    "        loss='sparse_categorical_crossentropy',\n",
    "        metrics=['accuracy']\n",
    "    )\n",
    "\n",
    "    # Train the model\n",
    "    start_time = time.time()\n",
    "    history = model.fit(train_dataset, epochs=1)\n",
    "    end_time = time.time()\n",
    "    training_time = end_time - start_time\n",
    "    print(f\"Training took {training_time:.3f} seconds\")\n",
    "        \n",
    "    return history, training_time\n",
    "\n",
    "# Train models and acquire training times\n",
    "print(\"Training model with FP32\")\n",
    "fp32_history, fp32_training_time = trainModel(train_dataset, modelName=\"fp32\", dataType=\"fp32\")\n",
    "print(\"Training model with BF16\")\n",
    "bf16_history, bf16_training_time = trainModel(train_dataset, modelName=\"bf16\", dataType=\"bf16\")\n",
    "\n",
    "# Training time results with loss\n",
    "print(\"ResNet-50 Summary\")\n",
    "print(f\"FP32 training time: {fp32_training_time:.3f} seconds with loss: {fp32_history.history['loss'][-1]}\")\n",
    "print(f\"BF16 training time: {bf16_training_time:.3f} seconds with loss: {bf16_history.history['loss'][-1]}\")\n",
    "\n",
    "# Calculate speedup when using BF16\n",
    "speedup_from_fp32 = fp32_training_time / bf16_training_time\n",
    "print(f\"BF16 is {speedup_from_fp32:.2f}X faster than FP32\")\n",
    "\n",
    "# Create bar chart with training time results\n",
    "plt.figure()\n",
    "plt.title(\"ResNet Training Time\")\n",
    "plt.xlabel(\"Test Case\")\n",
    "plt.ylabel(\"Training Time (seconds)\")\n",
    "plt.bar([\"FP32\", \"BF16\"], [fp32_training_time, bf16_training_time])\n",
    "\n",
    "# Create bar chart with speedup results\n",
    "plt.figure()\n",
    "plt.title(\"BF16 Speedup\")\n",
    "plt.xlabel(\"Test Case\")\n",
    "plt.ylabel(\"Speedup\")\n",
    "plt.bar([\"FP32\", \"BF16\"], [1, speedup_from_fp32])\n",
    "    \n",
    "plt.show"
   ]
  },
  {
   "cell_type": "markdown",
   "metadata": {},
   "source": [
    "### We import the results from our runs on Kestrel CPU Compute Nodes"
   ]
  },
  {
   "cell_type": "code",
   "execution_count": 17,
   "metadata": {},
   "outputs": [
    {
     "name": "stdout",
     "output_type": "stream",
     "text": [
      "TRAINING RESULTS OF RESNET-50\n",
      "Summary\n",
      "FP32 training time: 703.187\n",
      "BF16 training time: 461.133\n",
      "BF16 is 1.52X faster than FP32\n",
      "[CODE_SAMPLE_COMPLETED_SUCCESFULLY]\n",
      "Job Done!\n"
     ]
    }
   ],
   "source": [
    "from collections import deque\n",
    "\n",
    "print(\"TRAINING RESULTS OF RESNET-50\")\n",
    "def print_last_lines(file_path, num_lines=6):\n",
    "    with open(file_path, 'r') as file:\n",
    "        last_lines = deque(file, maxlen=num_lines)\n",
    "    for line in last_lines:\n",
    "        print(line, end='')\n",
    "\n",
    "file_path = '/home/ttahmid/intel_amx_resnet50_TFexample.out'\n",
    "print_last_lines(file_path)\n"
   ]
  },
  {
   "cell_type": "markdown",
   "metadata": {},
   "source": [
    "### For our testing purposes, we will be using a synthetic data for a regression task for all training models (ANN, ResNET, BNN). The dataset is defined as follows:"
   ]
  },
  {
   "cell_type": "code",
   "execution_count": null,
   "metadata": {},
   "outputs": [],
   "source": [
    "# First, the imports\n",
    "import os\n",
    "import time\n",
    "import matplotlib.pyplot as plt\n",
    "import tensorflow as tf\n",
    "from sklearn.datasets import make_regression\n",
    "from sklearn.preprocessing import StandardScaler\n",
    "from sklearn.model_selection import train_test_split\n",
    "from tensorflow.keras.optimizers import Adam\n",
    "from tfmelt.models import ArtificialNeuralNetwork, ResidualNeuralNetwork, BayesianNeuralNetwork"
   ]
  },
  {
   "cell_type": "code",
   "execution_count": null,
   "metadata": {},
   "outputs": [],
   "source": [
    "# Hyperparameters and constants\n",
    "LR = 0.001\n",
    "BATCH_SIZE = 128\n",
    "\n",
    "n_samples = 50000\n",
    "n_features = 100\n",
    "n_targets = 10\n",
    "noise = 1.0\n",
    "n_epochs = 100\n",
    "\n",
    "# Set seeds for reproducibility\n",
    "tf.keras.utils.set_random_seed(42)  # sets seeds for base-python, numpy and tf\n",
    "tf.config.experimental.enable_op_determinism()\n",
    "\n",
    "# Create synthetic regression data\n",
    "x, y = make_regression(\n",
    "        n_samples=n_samples, \n",
    "        n_features=n_features, \n",
    "        n_informative=n_features // 2, \n",
    "        n_targets=n_targets, \n",
    "        noise=noise, \n",
    "        random_state=42,\n",
    ")\n",
    "print(f\"Shape of x: {x.shape}, Shape of y: {y.shape}\")\n",
    "\n",
    "# Normalize the data\n",
    "x_scaler = StandardScaler().fit(x)\n",
    "y_scaler = StandardScaler().fit(y.reshape(-1, n_targets))\n",
    "x_norm = x_scaler.transform(x)\n",
    "y_norm = y_scaler.transform(y.reshape(-1, n_targets))\n",
    "\n",
    "# Create the train and test datasets\n",
    "x_train, x_test, y_train, y_test = train_test_split(x_norm, y_norm, test_size=0.2, random_state=42)\n",
    "x_test, x_val, y_test, y_val = train_test_split(x_test, y_test, test_size=0.5, random_state=42)"
   ]
  },
  {
   "cell_type": "markdown",
   "metadata": {},
   "source": [
    "### Next, let us define our training models (ANN, ResNET, and BNN)"
   ]
  },
  {
   "cell_type": "code",
   "execution_count": null,
   "metadata": {},
   "outputs": [],
   "source": [
    "ann_model = ArtificialNeuralNetwork(\n",
    "        num_outputs=n_targets,\n",
    "        width=512,\n",
    "        depth=20,\n",
    "        act_fun=\"relu\",\n",
    "        l1_reg=0,\n",
    "        l2_reg=0,\n",
    "        input_dropout=0.1,\n",
    "        dropout=0.1,\n",
    "        batch_norm=True,\n",
    "        output_activation=\"linear\",\n",
    ")\n",
    "\n",
    "resnet_model = ResidualNeuralNetwork(\n",
    "        num_outputs=n_targets,\n",
    "        width=512,\n",
    "        depth=20, #or 50\n",
    "        layers_per_block=2,\n",
    "        act_fun=\"relu\",\n",
    "        l1_reg=0,\n",
    "        l2_reg=0,\n",
    "        input_dropout=0.1,\n",
    "        dropout=0.1,\n",
    "        batch_norm=True,\n",
    "        pre_activation=True,\n",
    "        post_add_activation=False,\n",
    "        output_activation=\"linear\",\n",
    ")\n",
    "\n",
    "bnn_model = BayesianNeuralNetwork(\n",
    "        num_outputs=n_targets,\n",
    "        act_fun=\"relu\",\n",
    "        l1_reg=0,\n",
    "        l2_reg=0,\n",
    "        input_dropout=0.1,\n",
    "        dropout=0.5,\n",
    "        batch_norm=True,\n",
    "        output_activation=\"linear\",\n",
    "        num_points=x_train.shape[0],\n",
    "        do_aleatoric=True,\n",
    "        node_list=[4000, 4000, 4000, 4000, 4000, 1024],\n",
    "        bayesian_mask=[True, True, True, True, True, True],\n",
    ")"
   ]
  },
  {
   "cell_type": "markdown",
   "metadata": {},
   "source": [
    "### In the trainModel function (similar to Intel example) below, we set the `'auto_mixed_precision_onednn_bfloat16':True` option if the data type is `bfloat16`. "
   ]
  },
  {
   "cell_type": "code",
   "execution_count": null,
   "metadata": {},
   "outputs": [],
   "source": [
    "def trainModel(x_train, y_train, x_val, y_val, model, dataType=\"fp32\"):\n",
    "    # Set mixed precision policy\n",
    "    if dataType == \"bf16\":\n",
    "        tf.config.optimizer.set_experimental_options({'auto_mixed_precision_onednn_bfloat16':True})\n",
    "    else:\n",
    "        tf.keras.mixed_precision.set_global_policy('float32')\n",
    "    \n",
    "    # Build model and print summary\n",
    "    model.build(input_shape=(None, n_features))\n",
    "\n",
    "    # Set the optimizer with loss scaling\n",
    "    base_optimizer = Adam(learning_rate=LR)\n",
    "    if dataType == \"bf16\":\n",
    "        optimizer = tf.keras.mixed_precision.LossScaleOptimizer(base_optimizer)\n",
    "    else:\n",
    "        optimizer = base_optimizer\n",
    "\n",
    "    model.compile(\n",
    "        optimizer=optimizer,\n",
    "        loss='mse',\n",
    "    )\n",
    "    model.summary()\n",
    "\n",
    "    # Train the model\n",
    "    start_time = time.time()\n",
    "    history = model.fit(x_train, y_train, validation_data=(x_val, y_val), epochs=n_epochs, batch_size=BATCH_SIZE, shuffle=True)\n",
    "    end_time = time.time()\n",
    "    training_time = end_time - start_time\n",
    "    print(f\"Training took {training_time:.3f} seconds\")\n",
    "        \n",
    "    return history, training_time"
   ]
  },
  {
   "cell_type": "markdown",
   "metadata": {},
   "source": [
    "### Now, we train our models with both mixed precision (`bfloat16`) and single precision (`float32`) to measure the speedup. Since training 100 epochs for large networks takes a very long time we do not execute the training in this notebook. Instead we simply import the results for training scripts run in Kestrel to show the Speedup and Energy Efficieny (only BNNs tested)."
   ]
  },
  {
   "cell_type": "markdown",
   "metadata": {},
   "source": [
    "### ANN Training"
   ]
  },
  {
   "cell_type": "code",
   "execution_count": null,
   "metadata": {},
   "outputs": [],
   "source": [
    "# Train ANN model and acquire training times\n",
    "print(\"Training ANN model with FP32\")\n",
    "ann_fp32_history, ann_fp32_training_time = trainModel(x_train, y_train, x_val, y_val, ann_model, dataType=\"fp32\")\n",
    "    \n",
    "print(\"Training ANN model with BF16\")\n",
    "ann_bf16_history, ann_bf16_training_time = trainModel(x_train, y_train, x_val, y_val, ann_model, dataType=\"bf16\")"
   ]
  },
  {
   "cell_type": "code",
   "execution_count": null,
   "metadata": {},
   "outputs": [],
   "source": [
    "# Training time results with loss\n",
    "print(\"ANN Training Summary\")\n",
    "print(f\"FP32 training time: {ann_fp32_training_time:.3f} seconds with loss: {ann_fp32_history.history['loss'][-1]}\")\n",
    "print(f\"BF16 training time: {ann_bf16_training_time:.3f} seconds with loss: {ann_bf16_history.history['loss'][-1]}\")\n",
    "\n",
    "# Calculate speedup of FP16 and BF16 over FP32\n",
    "ann_bf16_speedup_from_fp32 = ann_fp32_training_time / ann_bf16_training_time\n",
    "print(f\"BF16 is {ann_bf16_speedup_from_fp32:.2f}X faster than FP32\")"
   ]
  },
  {
   "cell_type": "markdown",
   "metadata": {},
   "source": [
    "### Importing ANN Training Results"
   ]
  },
  {
   "cell_type": "code",
   "execution_count": 18,
   "metadata": {},
   "outputs": [
    {
     "name": "stdout",
     "output_type": "stream",
     "text": [
      "TRAINING RESULTS OF TF-MELT ANN\n",
      "ANN Summary\n",
      "FP32 training time: 1170.120 seconds with loss: 0.22554543614387512\n",
      "BF16 training time: 1088.139 seconds with loss: 0.28635311126708984\n",
      "BF16 is 1.08X faster than FP32\n",
      "[CODE_SAMPLE_COMPLETED_SUCCESFULLY]\n",
      "Job Done!\n"
     ]
    }
   ],
   "source": [
    "print(\"TRAINING RESULTS OF TF-MELT ANN\")\n",
    "\n",
    "file_path1 = '/home/ttahmid/tf-melt_ann_example.out'\n",
    "\n",
    "print_last_lines(file_path1)"
   ]
  },
  {
   "cell_type": "markdown",
   "metadata": {},
   "source": [
    "### ResNET Training"
   ]
  },
  {
   "cell_type": "code",
   "execution_count": null,
   "metadata": {},
   "outputs": [],
   "source": [
    "# Train ResNET model and acquire training times\n",
    "print(\"Training ResNET model with FP32\")\n",
    "resnet_fp32_history, resnet_fp32_training_time = trainModel(x_train, y_train, x_val, y_val, resnet_model, dataType=\"fp32\")\n",
    "\n",
    "print(\"Training ResNET model with BF16\")\n",
    "resnet_bf16_history, resnet_bf16_training_time = trainModel(x_train, y_train, x_val, y_val, resnet_model, dataType=\"bf16\")"
   ]
  },
  {
   "cell_type": "code",
   "execution_count": null,
   "metadata": {},
   "outputs": [],
   "source": [
    "# Training time results with loss\n",
    "print(\"ResNET Training Summary\")\n",
    "print(f\"FP32 training time: {resnet_fp32_training_time:.3f} seconds with loss: {resnet_fp32_history.history['loss'][-1]}\")\n",
    "print(f\"BF16 training time: {resnet_bf16_training_time:.3f} seconds with loss: {resnet_bf16_history.history['loss'][-1]}\")\n",
    "\n",
    "# Calculate speedup of FP16 and BF16 over FP32\n",
    "resnet_bf16_speedup_from_fp32 = resnet_fp32_training_time / resnet_bf16_training_time\n",
    "print(f\"BF16 is {resnet_bf16_speedup_from_fp32:.2f}X faster than FP32\")"
   ]
  },
  {
   "cell_type": "markdown",
   "metadata": {},
   "source": [
    "### Importing ResNET Training Results"
   ]
  },
  {
   "cell_type": "code",
   "execution_count": 19,
   "metadata": {},
   "outputs": [
    {
     "name": "stdout",
     "output_type": "stream",
     "text": [
      "TRAINING RESULTS OF TF-MELT RESNET w/ 20 LAYERS\n",
      "Summary\n",
      "FP32 training time: 588.548 seconds\n",
      "BF16 training time: 455.163 seconds\n",
      "BF16 is 1.29X faster than FP32\n",
      "[CODE_SAMPLE_COMPLETED_SUCCESFULLY]\n",
      "Job Done!\n",
      "\n",
      "\n",
      "TRAINING RESULTS OF TF-MELT RESNET w/ 50 LAYERS\n",
      "Summary\n",
      "FP32 training time: 3025.549 seconds\n",
      "BF16 training time: 2288.593 seconds\n",
      "BF16 is 1.32X faster than FP32\n",
      "[CODE_SAMPLE_COMPLETED_SUCCESFULLY]\n",
      "Job Done!\n"
     ]
    }
   ],
   "source": [
    "file_path1 = '/home/ttahmid/tf-melt_resnet_example1.out'\n",
    "file_path2 = '/home/ttahmid/tf-melt_resnet_example2.out'\n",
    "\n",
    "print(\"TRAINING RESULTS OF TF-MELT RESNET w/ 20 LAYERS\")\n",
    "print_last_lines(file_path1)\n",
    "print(\"\\n\")\n",
    "print(\"TRAINING RESULTS OF TF-MELT RESNET w/ 50 LAYERS\")\n",
    "print_last_lines(file_path2)\n"
   ]
  },
  {
   "cell_type": "markdown",
   "metadata": {},
   "source": [
    "### BNN Training"
   ]
  },
  {
   "cell_type": "markdown",
   "metadata": {},
   "source": [
    "### For BNNs we also measured Energy Consumtion using the tool `CodeCarbon`. So, below is the updated trainModel() for BNN Training."
   ]
  },
  {
   "cell_type": "code",
   "execution_count": null,
   "metadata": {},
   "outputs": [],
   "source": [
    "from codecarbon import EmissionsTracker\n",
    "\n",
    "def trainModel(x_train, y_train, x_val, y_val, model, dataType=\"fp32\"):\n",
    "    # Set mixed precision policy\n",
    "    if dataType == \"bf16\":\n",
    "        tf.config.optimizer.set_experimental_options({'auto_mixed_precision_onednn_bfloat16':True})\n",
    "    else:\n",
    "        tf.keras.mixed_precision.set_global_policy('float32')\n",
    "    \n",
    "    # Build model and print summary\n",
    "    model.build(input_shape=(None, n_features))\n",
    "\n",
    "    # Set the optimizer with loss scaling\n",
    "    base_optimizer = Adam(learning_rate=LR)\n",
    "    if dataType == \"bf16\":\n",
    "        optimizer = tf.keras.mixed_precision.LossScaleOptimizer(base_optimizer)\n",
    "    else:\n",
    "        optimizer = base_optimizer\n",
    "\n",
    "    model.compile(\n",
    "        optimizer=optimizer,\n",
    "        loss='mse',\n",
    "    )\n",
    "    model.summary()\n",
    "\n",
    "    # Train the model\n",
    "    tracker = EmissionsTracker()\n",
    "    tracker.start()\n",
    "    start_time = time.time()\n",
    "    history = model.fit(x_train, y_train, validation_data=(x_val, y_val), epochs=n_epochs, batch_size=BATCH_SIZE, shuffle=True)\n",
    "    end_time = time.time()\n",
    "    emissions: float = tracker.stop()\n",
    "    training_time = end_time - start_time\n",
    "    print(f\"Training took {training_time:.3f} seconds\")\n",
    "\n",
    "    return history, training_time, emissions"
   ]
  },
  {
   "cell_type": "code",
   "execution_count": null,
   "metadata": {},
   "outputs": [],
   "source": [
    "# Train models and acquire training times, and emissions\n",
    "print(\"Training model with FP32\")\n",
    "bnn_fp32_history, bnn_fp32_training_time, bnn_fp32_emissions = trainModel(x_train, y_train, x_val, y_val, modelName=\"fp32\", dataType=\"fp32\")\n",
    "    \n",
    "print(\"Training model with BF16\")\n",
    "bnn_bf16_history, bnn_bf16_training_time, bnn_bf16_emissions = trainModel(x_train, y_train, x_val, y_val, modelName=\"bf16\", dataType=\"bf16\")"
   ]
  },
  {
   "cell_type": "code",
   "execution_count": null,
   "metadata": {},
   "outputs": [],
   "source": [
    "# Training time results with loss and emissions\n",
    "print(\"BNN Training Summary\")\n",
    "print(f\"FP32 training time: {bnn_fp32_training_time:.3f} seconds with loss: {bnn_fp32_history.history['loss'][-1]}\")\n",
    "print(f\"BF16 training time: {bnn_bf16_training_time:.3f} seconds with loss: {bnn_bf16_history.history['loss'][-1]}\")\n",
    "print(f\"FP32 emissions: {bnn_fp32_emissions:.3f} kgCO2\")\n",
    "print(f\"BF16 emissions: {bnn_bf16_emissions:.3f} kgCO2\")\n",
    "# Calculate speedup of FP16 and BF16 over FP32\n",
    "bnn_bf16_speedup_from_fp32 = bnn_fp32_training_time / bnn_bf16_training_time\n",
    "print(f\"BF16 is {bnn_bf16_speedup_from_fp32:.2f}X faster than FP32\")\n",
    "# Calcualte the emissions reduction percentage\n",
    "emissions_reduction = ((bnn_fp32_emissions - bnn_bf16_emissions) / bnn_fp32_emissions) * 100\n",
    "print(f\"BF16 reduces emissions by {emissions_reduction:.2f}%\")"
   ]
  },
  {
   "cell_type": "markdown",
   "metadata": {},
   "source": [
    "### Importing BNN Training Results"
   ]
  },
  {
   "cell_type": "code",
   "execution_count": 20,
   "metadata": {},
   "outputs": [
    {
     "name": "stdout",
     "output_type": "stream",
     "text": [
      "TRAINING RESULTS OF TF-MELT BNN (ALL BNN LAYERS) with 100 EPOCHS\n",
      "BNN Summary\n",
      "FP32 training time: 12136.956 seconds with loss: 1.1534463167190552\n",
      "BF16 training time: 9311.786 seconds with loss: 1.1598471403121948\n",
      "FP32 emissions: 0.980 kgCO2\n",
      "BF16 emissions: 0.754 kgCO2\n",
      "BF16 is 1.30X faster than FP32\n",
      "BF16 reduces emissions by 23.09%\n",
      "[CODE_SAMPLE_COMPLETED_SUCCESFULLY]\n",
      "Job Done!\n"
     ]
    }
   ],
   "source": [
    "file_path6 = '/home/ttahmid/tf-melt_all_bnn_example.out'\n",
    "def print_last_lines(file_path, num_lines=9):\n",
    "    with open(file_path, 'r') as file:\n",
    "        last_lines = deque(file, maxlen=num_lines)\n",
    "    for line in last_lines:\n",
    "        print(line, end='')\n",
    "print(\"TRAINING RESULTS OF TF-MELT BNN (ALL BNN LAYERS) with 100 EPOCHS\")\n",
    "print_last_lines(file_path6)"
   ]
  },
  {
   "cell_type": "markdown",
   "metadata": {},
   "source": [
    "### Importing Plot History for FP32 BNN Training"
   ]
  },
  {
   "cell_type": "code",
   "execution_count": 21,
   "metadata": {},
   "outputs": [
    {
     "data": {
      "image/png": "[encoded data removed]",
      "text/plain": [
       "<IPython.core.display.Image object>"
      ]
     },
     "execution_count": 21,
     "metadata": {},
     "output_type": "execute_result"
    }
   ],
   "source": [
    "# Load plot (image) of FP32 history\n",
    "from IPython.display import Image\n",
    "Image(filename='/home/ttahmid/applications_test/tf-melt/examples/results/fp32_history.png')"
   ]
  },
  {
   "cell_type": "markdown",
   "metadata": {},
   "source": [
    "### Importing Plot History for BF16 BNN Training"
   ]
  },
  {
   "cell_type": "code",
   "execution_count": 22,
   "metadata": {},
   "outputs": [
    {
     "data": {
      "image/png": "[encoded data removed]",
      "text/plain": [
       "<IPython.core.display.Image object>"
      ]
     },
     "execution_count": 22,
     "metadata": {},
     "output_type": "execute_result"
    }
   ],
   "source": [
    "# Load plot (image) of FP32 history\n",
    "from IPython.display import Image\n",
    "Image(filename='/home/ttahmid/applications_test/tf-melt/examples/results/bf16_history.png')"
   ]
  },
  {
   "cell_type": "code",
   "execution_count": null,
   "metadata": {},
   "outputs": [],
   "source": []
  }
 ],
 "metadata": {
  "kernelspec": {
   "display_name": "Python (tf-melt)",
   "language": "python",
   "name": "tf-melt"
  },
  "language_info": {
   "codemirror_mode": {
    "name": "ipython",
    "version": 3
   },
   "file_extension": ".py",
   "mimetype": "text/x-python",
   "name": "python",
   "nbconvert_exporter": "python",
   "pygments_lexer": "ipython3",
   "version": "3.11.9"
  }
 },
 "nbformat": 4,
 "nbformat_minor": 2
}
